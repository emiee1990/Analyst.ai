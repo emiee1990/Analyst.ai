{
 "cells": [
  {
   "cell_type": "code",
   "execution_count": null,
   "id": "d098ff43",
   "metadata": {},
   "outputs": [],
   "source": [
    "from bs4 import BeautifulSoup\n",
    "import requests\n",
    "import pandas as pd"
   ]
  },
  {
   "cell_type": "code",
   "execution_count": null,
   "id": "e1165e17",
   "metadata": {},
   "outputs": [],
   "source": [
    "ProductName=[]\n",
    "ProductURL=[]\n",
    "Ratings=[]\n",
    "ProductPrice=[]\n",
    "Number_of_reviews=[]\n",
    "\n",
    "for i in range(1,40):\n",
    "    html_text = requests.get('https://www.amazon.in/s?k=bags&crid=2M096C61O4MLT&qid=1653308124&sprefix=ba%2Caps%2C283&ref=sr_pg_'+str(i)).text\n",
    "    soup = BeautifulSoup(html_text, 'lxml')\n",
    "    jobs = soup.find_all('div', class_='sg-col sg-col-4-of-12 sg-col-8-of-16 sg-col-12-of-20 s-list-col-right')\n",
    "    \n",
    "    ProductNameSearch=[]\n",
    "    count=0\n",
    "    for job in jobs:\n",
    "        pn = job.find('span', class_= 'a-size-medium a-color-base a-text-normal').text\n",
    "        count += 1\n",
    "        ProductNameSearch.append(pn)\n",
    "        \n",
    "    for job in jobs:\n",
    "        name = job.find('span', class_= 'a-size-medium a-color-base a-text-normal').text\n",
    "        if name in ProductNameSearch:\n",
    "            rt = job.find('span', class_=\"a-icon-alt\").text\n",
    "            pp = job.find('span',class_=\"a-price-whole\").text\n",
    "            rw = job.find('span',class_=\"a-size-base s-underline-text\").text\n",
    "            #url = job.find('a', class_=\"a-link-normal s-underline-text s-underline-link-text s-link-style a-text-normal\")\n",
    "            #url = \"https://www.amazon.in\"+url[\"href\"]\n",
    "            \n",
    "            url = job.div.div.div.h2.a[\"href\"]\n",
    "            url = \"https://www.amazon.in\"+url\n",
    "            \n",
    "            ProductName.append(name)\n",
    "            ProductURL.append(url)\n",
    "            Ratings.append(rt)\n",
    "            ProductPrice.append(pp)\n",
    "            Number_of_reviews.append(rw)"
   ]
  },
  {
   "cell_type": "code",
   "execution_count": null,
   "id": "1679b223",
   "metadata": {},
   "outputs": [],
   "source": [
    "data = {'Product_Name':ProductName,'Product_URL':ProductURL,\"Product_Price\":ProductPrice, \"Ratings\": Ratings, \"Number_of_reviews\":Number_of_reviews}\n",
    "df = pd.DataFrame(data)\n",
    "df"
   ]
  },
  {
   "cell_type": "code",
   "execution_count": null,
   "id": "233ba33a",
   "metadata": {},
   "outputs": [],
   "source": [
    "df.to_csv(\"amazonScrapping.csv\", index=False)"
   ]
  },
  {
   "cell_type": "code",
   "execution_count": null,
   "id": "681a6c85",
   "metadata": {},
   "outputs": [],
   "source": [
    "csvFile = pd.read_csv(\"amazonScrapping.csv\")"
   ]
  },
  {
   "cell_type": "code",
   "execution_count": null,
   "id": "a6cb3832",
   "metadata": {},
   "outputs": [],
   "source": [
    "print(csvFile.Product_URL[0])"
   ]
  },
  {
   "cell_type": "code",
   "execution_count": null,
   "id": "747e0826",
   "metadata": {},
   "outputs": [],
   "source": [
    "ProductURL"
   ]
  }
 ],
 "metadata": {
  "kernelspec": {
   "display_name": "Python 3 (ipykernel)",
   "language": "python",
   "name": "python3"
  },
  "language_info": {
   "codemirror_mode": {
    "name": "ipython",
    "version": 3
   },
   "file_extension": ".py",
   "mimetype": "text/x-python",
   "name": "python",
   "nbconvert_exporter": "python",
   "pygments_lexer": "ipython3",
   "version": "3.9.12"
  }
 },
 "nbformat": 4,
 "nbformat_minor": 5
}
